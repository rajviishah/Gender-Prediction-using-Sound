{
  "nbformat": 4,
  "nbformat_minor": 0,
  "metadata": {
    "colab": {
      "name": "Gender_pred_using_sound.ipynb",
      "provenance": []
    },
    "kernelspec": {
      "name": "python3",
      "display_name": "Python 3"
    }
  },
  "cells": [
    {
      "cell_type": "markdown",
      "metadata": {
        "id": "3NAx4_IXevvT",
        "colab_type": "text"
      },
      "source": [
        "Installation of fuzzy library"
      ]
    },
    {
      "cell_type": "code",
      "metadata": {
        "id": "c8Vde0MEearA",
        "colab_type": "code",
        "colab": {
          "base_uri": "https://localhost:8080/",
          "height": 170
        },
        "outputId": "7f85ecd3-2849-42e6-94be-52be686407be"
      },
      "source": [
        "!pip install fuzzy"
      ],
      "execution_count": null,
      "outputs": [
        {
          "output_type": "stream",
          "text": [
            "Collecting fuzzy\n",
            "  Downloading https://files.pythonhosted.org/packages/ad/b0/210f790e81e3c9f86a740f5384c758ad6c7bc1958332cf64263a9d3cf336/Fuzzy-1.2.2.tar.gz\n",
            "Building wheels for collected packages: fuzzy\n",
            "  Building wheel for fuzzy (setup.py) ... \u001b[?25l\u001b[?25hdone\n",
            "  Created wheel for fuzzy: filename=Fuzzy-1.2.2-cp36-cp36m-linux_x86_64.whl size=160962 sha256=19bfaa381334ea43f244b104a96d884760851d960df7532f159c383058038e6b\n",
            "  Stored in directory: /root/.cache/pip/wheels/79/f7/14/b7e20855729780e85322529469b2d1eadfd940e83d981373cc\n",
            "Successfully built fuzzy\n",
            "Installing collected packages: fuzzy\n",
            "Successfully installed fuzzy-1.2.2\n"
          ],
          "name": "stdout"
        }
      ]
    },
    {
      "cell_type": "markdown",
      "metadata": {
        "id": "RmR21v-Weqpg",
        "colab_type": "text"
      },
      "source": [
        "Exploring fuuzy.nysiis()"
      ]
    },
    {
      "cell_type": "code",
      "metadata": {
        "id": "jQ3xy9bielJx",
        "colab_type": "code",
        "colab": {
          "base_uri": "https://localhost:8080/",
          "height": 187
        },
        "outputId": "8519a325-3e9b-4dd9-e207-c00db16821c6"
      },
      "source": [
        "#importing the fuzzy module\n",
        "import fuzzy\n",
        "\n",
        "# Exploring the output of fuzzy.nysiis\n",
        "print(fuzzy.nysiis('fuzzy'))\n",
        "print(fuzzy.nysiis('rajvi'))\n",
        "print(fuzzy.nysiis('know'))\n",
        "print(fuzzy.nysiis('no'))\n",
        "print(fuzzy.nysiis('colour'))\n",
        "print(fuzzy.nysiis('color'))\n",
        "print(fuzzy.nysiis('rajvi'))\n",
        "print(fuzzy.nysiis('rajv'))\n",
        "print(fuzzy.nysiis('tomorrow'))\n",
        "print(fuzzy.nysiis('tommorrow'))"
      ],
      "execution_count": 9,
      "outputs": [
        {
          "output_type": "stream",
          "text": [
            "FASY\n",
            "RAJV\n",
            "N\n",
            "N\n",
            "CALAR\n",
            "CALAR\n",
            "RAJV\n",
            "RAJV\n",
            "TANAR\n",
            "TANAR\n"
          ],
          "name": "stdout"
        }
      ]
    },
    {
      "cell_type": "code",
      "metadata": {
        "id": "vs46Vq0MfPfS",
        "colab_type": "code",
        "colab": {
          "base_uri": "https://localhost:8080/",
          "height": 204
        },
        "outputId": "8bc6079c-8e60-48dc-b1e2-737e8540e84a"
      },
      "source": [
        "# Importing the pandas module\n",
        "import pandas\n",
        "\n",
        "# Reading in datasets/nytkids_yearly.csv, which is semicolon delimited\n",
        "author_df = pandas.read_csv(r'nytkids_yearly.csv', delimiter=';')\n",
        "\n",
        "# Looping through author_df['Author'] to extract the authors first names\n",
        "first_name = []\n",
        "for name in author_df['Author']:\n",
        "    name = name.split(' ') #string will be converted to list\n",
        "    first_name.append(name[0])\n",
        "\n",
        "# Adding first_name as a column to author_df\n",
        "author_df['first_name'] = first_name\n",
        "\n",
        "# Checking out the first few rows of author_df\n",
        "author_df.head()"
      ],
      "execution_count": 7,
      "outputs": [
        {
          "output_type": "execute_result",
          "data": {
            "text/html": [
              "<div>\n",
              "<style scoped>\n",
              "    .dataframe tbody tr th:only-of-type {\n",
              "        vertical-align: middle;\n",
              "    }\n",
              "\n",
              "    .dataframe tbody tr th {\n",
              "        vertical-align: top;\n",
              "    }\n",
              "\n",
              "    .dataframe thead th {\n",
              "        text-align: right;\n",
              "    }\n",
              "</style>\n",
              "<table border=\"1\" class=\"dataframe\">\n",
              "  <thead>\n",
              "    <tr style=\"text-align: right;\">\n",
              "      <th></th>\n",
              "      <th>Year</th>\n",
              "      <th>Book Title</th>\n",
              "      <th>Author</th>\n",
              "      <th>Besteller this year</th>\n",
              "      <th>first_name</th>\n",
              "    </tr>\n",
              "  </thead>\n",
              "  <tbody>\n",
              "    <tr>\n",
              "      <th>0</th>\n",
              "      <td>2017</td>\n",
              "      <td>DRAGONS LOVE TACOS</td>\n",
              "      <td>Adam Rubin</td>\n",
              "      <td>49</td>\n",
              "      <td>Adam</td>\n",
              "    </tr>\n",
              "    <tr>\n",
              "      <th>1</th>\n",
              "      <td>2017</td>\n",
              "      <td>THE WONDERFUL THINGS YOU WILL BE</td>\n",
              "      <td>Emily Winfield Martin</td>\n",
              "      <td>48</td>\n",
              "      <td>Emily</td>\n",
              "    </tr>\n",
              "    <tr>\n",
              "      <th>2</th>\n",
              "      <td>2017</td>\n",
              "      <td>THE DAY THE CRAYONS QUIT</td>\n",
              "      <td>Drew Daywalt</td>\n",
              "      <td>44</td>\n",
              "      <td>Drew</td>\n",
              "    </tr>\n",
              "    <tr>\n",
              "      <th>3</th>\n",
              "      <td>2017</td>\n",
              "      <td>ROSIE REVERE, ENGINEER</td>\n",
              "      <td>Andrea Beaty</td>\n",
              "      <td>38</td>\n",
              "      <td>Andrea</td>\n",
              "    </tr>\n",
              "    <tr>\n",
              "      <th>4</th>\n",
              "      <td>2017</td>\n",
              "      <td>ADA TWIST, SCIENTIST</td>\n",
              "      <td>Andrea Beaty</td>\n",
              "      <td>28</td>\n",
              "      <td>Andrea</td>\n",
              "    </tr>\n",
              "  </tbody>\n",
              "</table>\n",
              "</div>"
            ],
            "text/plain": [
              "   Year                        Book Title  ... Besteller this year  first_name\n",
              "0  2017                DRAGONS LOVE TACOS  ...                  49        Adam\n",
              "1  2017  THE WONDERFUL THINGS YOU WILL BE  ...                  48       Emily\n",
              "2  2017          THE DAY THE CRAYONS QUIT  ...                  44        Drew\n",
              "3  2017            ROSIE REVERE, ENGINEER  ...                  38      Andrea\n",
              "4  2017              ADA TWIST, SCIENTIST  ...                  28      Andrea\n",
              "\n",
              "[5 rows x 5 columns]"
            ]
          },
          "metadata": {
            "tags": []
          },
          "execution_count": 7
        }
      ]
    },
    {
      "cell_type": "code",
      "metadata": {
        "id": "6Fkp7dIJfiCO",
        "colab_type": "code",
        "colab": {
          "base_uri": "https://localhost:8080/",
          "height": 34
        },
        "outputId": "ef72b64d-c6dc-4362-8db9-e082126135a1"
      },
      "source": [
        "# Importing numpy\n",
        "import numpy as np\n",
        "\n",
        "# Looping through author's first names to create the nysiis (fuzzy) equivalent\n",
        "nysiis_name = []\n",
        "for name in first_name:\n",
        "    nysiis_name.append(fuzzy.nysiis(name))\n",
        "\n",
        "# Adding nysiis_name as a column to author_df\n",
        "author_df['nysiis_name'] = nysiis_name\n",
        "\n",
        "# Printing out the difference between unique firstnames and unique nysiis_names:\n",
        "diff_names = len(np.unique(author_df.first_name)) - \\\n",
        "    len(np.unique(author_df.nysiis_name))\n",
        "print('There are ' + str(diff_names) +\n",
        "      ' more unqiue values for first_name than nysiis_name')"
      ],
      "execution_count": 10,
      "outputs": [
        {
          "output_type": "stream",
          "text": [
            "There are 25 more unqiue values for first_name than nysiis_name\n"
          ],
          "name": "stdout"
        }
      ]
    },
    {
      "cell_type": "code",
      "metadata": {
        "id": "UwZuwCzjB_12",
        "colab_type": "code",
        "colab": {
          "base_uri": "https://localhost:8080/",
          "height": 204
        },
        "outputId": "cb64a03b-248a-4f7d-91f4-8fbac0a09116"
      },
      "source": [
        "# Reading in babynames_nysiis.csv, which is semicolon delimited.\n",
        "babies_df = pandas.read_csv('babynames_nysiis.csv', delimiter=';')\n",
        "\n",
        "# Looping through babies_df to and filling up gender\n",
        "gender = []\n",
        "for index in range(len(babies_df['babynysiis'])):\n",
        "    if babies_df.perc_female[index] > babies_df.perc_male[index]:\n",
        "        gender.append('F')\n",
        "    elif babies_df.perc_female[index] < babies_df.perc_male[index]:\n",
        "        gender.append('M')\n",
        "    else:\n",
        "        gender.append('N')\n",
        "\n",
        "# Adding a gender column to babies_df\n",
        "babies_df['gender'] = gender\n",
        "\n",
        "# Printing out the first few rows of babies_df\n",
        "babies_df.head()"
      ],
      "execution_count": 12,
      "outputs": [
        {
          "output_type": "execute_result",
          "data": {
            "text/html": [
              "<div>\n",
              "<style scoped>\n",
              "    .dataframe tbody tr th:only-of-type {\n",
              "        vertical-align: middle;\n",
              "    }\n",
              "\n",
              "    .dataframe tbody tr th {\n",
              "        vertical-align: top;\n",
              "    }\n",
              "\n",
              "    .dataframe thead th {\n",
              "        text-align: right;\n",
              "    }\n",
              "</style>\n",
              "<table border=\"1\" class=\"dataframe\">\n",
              "  <thead>\n",
              "    <tr style=\"text-align: right;\">\n",
              "      <th></th>\n",
              "      <th>babynysiis</th>\n",
              "      <th>perc_female</th>\n",
              "      <th>perc_male</th>\n",
              "      <th>gender</th>\n",
              "    </tr>\n",
              "  </thead>\n",
              "  <tbody>\n",
              "    <tr>\n",
              "      <th>0</th>\n",
              "      <td>NaN</td>\n",
              "      <td>62.50</td>\n",
              "      <td>37.50</td>\n",
              "      <td>F</td>\n",
              "    </tr>\n",
              "    <tr>\n",
              "      <th>1</th>\n",
              "      <td>RAX</td>\n",
              "      <td>63.64</td>\n",
              "      <td>36.36</td>\n",
              "      <td>F</td>\n",
              "    </tr>\n",
              "    <tr>\n",
              "      <th>2</th>\n",
              "      <td>ESAR</td>\n",
              "      <td>44.44</td>\n",
              "      <td>55.56</td>\n",
              "      <td>M</td>\n",
              "    </tr>\n",
              "    <tr>\n",
              "      <th>3</th>\n",
              "      <td>DJANG</td>\n",
              "      <td>0.00</td>\n",
              "      <td>100.00</td>\n",
              "      <td>M</td>\n",
              "    </tr>\n",
              "    <tr>\n",
              "      <th>4</th>\n",
              "      <td>PARCAL</td>\n",
              "      <td>25.00</td>\n",
              "      <td>75.00</td>\n",
              "      <td>M</td>\n",
              "    </tr>\n",
              "  </tbody>\n",
              "</table>\n",
              "</div>"
            ],
            "text/plain": [
              "  babynysiis  perc_female  perc_male gender\n",
              "0        NaN        62.50      37.50      F\n",
              "1        RAX        63.64      36.36      F\n",
              "2       ESAR        44.44      55.56      M\n",
              "3      DJANG         0.00     100.00      M\n",
              "4     PARCAL        25.00      75.00      M"
            ]
          },
          "metadata": {
            "tags": []
          },
          "execution_count": 12
        }
      ]
    },
    {
      "cell_type": "code",
      "metadata": {
        "id": "w3pxD2spCI8-",
        "colab_type": "code",
        "colab": {
          "base_uri": "https://localhost:8080/",
          "height": 102
        },
        "outputId": "d7d4619c-ec15-46ae-9c35-eead036b5d22"
      },
      "source": [
        "# This function returns the location of an element in a_list.\n",
        "# Where an item does not exist, it returns -1.\n",
        "def locate_in_list(a_list, element):\n",
        "    loc_of_name = a_list.index(element) if element in a_list else -1\n",
        "    return(loc_of_name)\n",
        "\n",
        "# Looping through author_df['nysiis_name'] and appending the gender of each\n",
        "# author to author_gender.\n",
        "author_gender = []\n",
        "for name in author_df['nysiis_name']:\n",
        "    nloc = locate_in_list(list(babies_df['babynysiis']), name)\n",
        "    if nloc == -1:\n",
        "        author_gender.append('Unknown')\n",
        "    else:\n",
        "        author_gender.append(babies_df['gender'][nloc])\n",
        "\n",
        "# Adding author_gender to the author_df\n",
        "author_df['author_gender'] = author_gender\n",
        "\n",
        "# Counting the author's genders\n",
        "author_df['author_gender'].value_counts()\n",
        "\n",
        "'''\n",
        "\n",
        "def locate_in_list(a_list, element):\n",
        "    loc_of_name = a_list.index(element) if element in a_list else -1\n",
        "    return(loc_of_name)\n",
        "\n",
        "author_gender = []\n",
        "\n",
        "for index in author_df['nysiis_name']:\n",
        "    nloc = locate_in_list(list(babies_df['babynysiis']), name)\n",
        "    if nloc == -1:\n",
        "        author_gender.append('Unknown')\n",
        "    else:\n",
        "        author_gender.append(babies_df['gender'][nloc])\n",
        "    \n",
        "author_df['author_gender'] = author_gender\n",
        "author_df['author_gender'].value_counts()\n",
        "'''"
      ],
      "execution_count": 14,
      "outputs": [
        {
          "output_type": "execute_result",
          "data": {
            "text/plain": [
              "F          395\n",
              "M          191\n",
              "Unknown      9\n",
              "N            8\n",
              "Name: author_gender, dtype: int64"
            ]
          },
          "metadata": {
            "tags": []
          },
          "execution_count": 14
        }
      ]
    },
    {
      "cell_type": "code",
      "metadata": {
        "id": "44TDV2V5CXsU",
        "colab_type": "code",
        "colab": {
          "base_uri": "https://localhost:8080/",
          "height": 142
        },
        "outputId": "89e7548a-51a4-405d-c2e9-6c24fa3e1861"
      },
      "source": [
        "# Creating a list of unique years, sorted in ascending order.\n",
        "years = list(author_df.Year.unique())\n",
        "#author_df.year.nunique(dropna = True) \n",
        "\n",
        "# Initializing lists\n",
        "males_by_yr = []\n",
        "females_by_yr = []\n",
        "unknown_by_yr = []\n",
        "\n",
        "# Looping through years to find the number of male, female and unknown authors per year\n",
        "for yr in years:\n",
        "    males_by_yr.append(\n",
        "        len(author_df[(author_df[\"author_gender\"] == 'M') & (author_df[\"Year\"] == yr)]))\n",
        "    females_by_yr.append(\n",
        "        len(author_df[(author_df[\"author_gender\"] == 'F') & (author_df[\"Year\"] == yr)]))\n",
        "    unknown_by_yr.append(len(\n",
        "        author_df[(author_df[\"author_gender\"] == 'Unknown') & (author_df[\"Year\"] == yr)]))\n",
        "\n",
        "# Printing out yearly values to examine changes over time\n",
        "data = np.array([males_by_yr, females_by_yr, unknown_by_yr])\n",
        "headers = ['males', 'females', 'unknowns']\n",
        "pandas.DataFrame(data, headers, years)\n",
        "\n",
        "# Creating a list of unique years, sorted in ascending order.\n",
        "years = list(np.unique(author_df.Year))\n",
        "\n",
        "males_by_yr = []\n",
        "females_by_yr = []\n",
        "unknown_by_yr = []\n",
        "\n",
        "# Looping through years to find the number of male, female and unknown authors per year\n",
        "for yr in years:\n",
        "    males_by_yr.append(\n",
        "        len(author_df[(author_df[\"author_gender\"] == 'M') & (author_df[\"Year\"] == yr)]))\n",
        "    females_by_yr.append(\n",
        "        len(author_df[(author_df[\"author_gender\"] == 'F') & (author_df[\"Year\"] == yr)]))\n",
        "    unknown_by_yr.append(len(\n",
        "        author_df[(author_df[\"author_gender\"] == 'Unknown') & (author_df[\"Year\"] == yr)]))\n",
        "\n",
        "data = np.array([males_by_yr, females_by_yr, unknown_by_yr])\n",
        "headers = ['males', 'females', 'unknowns']\n",
        "pandas.DataFrame(data, headers, years)"
      ],
      "execution_count": 15,
      "outputs": [
        {
          "output_type": "execute_result",
          "data": {
            "text/html": [
              "<div>\n",
              "<style scoped>\n",
              "    .dataframe tbody tr th:only-of-type {\n",
              "        vertical-align: middle;\n",
              "    }\n",
              "\n",
              "    .dataframe tbody tr th {\n",
              "        vertical-align: top;\n",
              "    }\n",
              "\n",
              "    .dataframe thead th {\n",
              "        text-align: right;\n",
              "    }\n",
              "</style>\n",
              "<table border=\"1\" class=\"dataframe\">\n",
              "  <thead>\n",
              "    <tr style=\"text-align: right;\">\n",
              "      <th></th>\n",
              "      <th>2008</th>\n",
              "      <th>2009</th>\n",
              "      <th>2010</th>\n",
              "      <th>2011</th>\n",
              "      <th>2012</th>\n",
              "      <th>2013</th>\n",
              "      <th>2014</th>\n",
              "      <th>2015</th>\n",
              "      <th>2016</th>\n",
              "      <th>2017</th>\n",
              "    </tr>\n",
              "  </thead>\n",
              "  <tbody>\n",
              "    <tr>\n",
              "      <th>males</th>\n",
              "      <td>8</td>\n",
              "      <td>19</td>\n",
              "      <td>27</td>\n",
              "      <td>21</td>\n",
              "      <td>21</td>\n",
              "      <td>11</td>\n",
              "      <td>21</td>\n",
              "      <td>18</td>\n",
              "      <td>25</td>\n",
              "      <td>20</td>\n",
              "    </tr>\n",
              "    <tr>\n",
              "      <th>females</th>\n",
              "      <td>15</td>\n",
              "      <td>45</td>\n",
              "      <td>48</td>\n",
              "      <td>51</td>\n",
              "      <td>46</td>\n",
              "      <td>51</td>\n",
              "      <td>34</td>\n",
              "      <td>30</td>\n",
              "      <td>32</td>\n",
              "      <td>43</td>\n",
              "    </tr>\n",
              "    <tr>\n",
              "      <th>unknowns</th>\n",
              "      <td>1</td>\n",
              "      <td>3</td>\n",
              "      <td>0</td>\n",
              "      <td>1</td>\n",
              "      <td>0</td>\n",
              "      <td>2</td>\n",
              "      <td>1</td>\n",
              "      <td>0</td>\n",
              "      <td>0</td>\n",
              "      <td>1</td>\n",
              "    </tr>\n",
              "  </tbody>\n",
              "</table>\n",
              "</div>"
            ],
            "text/plain": [
              "          2008  2009  2010  2011  2012  2013  2014  2015  2016  2017\n",
              "males        8    19    27    21    21    11    21    18    25    20\n",
              "females     15    45    48    51    46    51    34    30    32    43\n",
              "unknowns     1     3     0     1     0     2     1     0     0     1"
            ]
          },
          "metadata": {
            "tags": []
          },
          "execution_count": 15
        }
      ]
    },
    {
      "cell_type": "code",
      "metadata": {
        "id": "QOVkB15zDSB6",
        "colab_type": "code",
        "colab": {
          "base_uri": "https://localhost:8080/",
          "height": 312
        },
        "outputId": "bf9e52e5-8cb5-48cc-bed3-204a7961dce2"
      },
      "source": [
        "# Importing matplotlib\n",
        "import matplotlib.pyplot as plt\n",
        "\n",
        "# This makes plots appear in the notebook\n",
        "%matplotlib inline\n",
        "\n",
        "# Plotting the bar chart\n",
        "#plt.plot(years, unknown_by_yr)\n",
        "plt.bar(years, unknown_by_yr)\n",
        "plt.title('foreign-born authors')\n",
        "plt.xlabel('Year')\n",
        "plt.ylabel('unknown_year')"
      ],
      "execution_count": 16,
      "outputs": [
        {
          "output_type": "execute_result",
          "data": {
            "text/plain": [
              "Text(0, 0.5, 'unknown_year')"
            ]
          },
          "metadata": {
            "tags": []
          },
          "execution_count": 16
        },
        {
          "output_type": "display_data",
          "data": {
            "image/png": "[encoded data removed]",
            "text/plain": [
              "<Figure size 432x288 with 1 Axes>"
            ]
          },
          "metadata": {
            "tags": [],
            "needs_background": "light"
          }
        }
      ]
    },
    {
      "cell_type": "code",
      "metadata": {
        "id": "2_dhbDPNDZgt",
        "colab_type": "code",
        "colab": {
          "base_uri": "https://localhost:8080/",
          "height": 312
        },
        "outputId": "0495ddce-8614-4f62-e355-2e7ab95277a9"
      },
      "source": [
        "# Creating a new list, where 0.25 is added to each year\n",
        "years_shifted = [year + 0.25 for year in years]\n",
        "\n",
        "# Plotting males_by_yr by year\n",
        "plt.bar(years, males_by_yr, width = 0.25, color = 'lightblue')\n",
        "\n",
        "# Plotting females_by_yr by years_shifted\n",
        "plt.bar(years_shifted, females_by_yr, width = 0.25, color = 'pink')\n",
        "\n",
        "plt.xlabel('Years')\n",
        "plt.ylabel('No. of Authors')\n",
        "plt.title('Authors by Gender')"
      ],
      "execution_count": 17,
      "outputs": [
        {
          "output_type": "execute_result",
          "data": {
            "text/plain": [
              "Text(0.5, 1.0, 'Authors by Gender')"
            ]
          },
          "metadata": {
            "tags": []
          },
          "execution_count": 17
        },
        {
          "output_type": "display_data",
          "data": {
            "image/png": "[encoded data removed]",
            "text/plain": [
              "<Figure size 432x288 with 1 Axes>"
            ]
          },
          "metadata": {
            "tags": [],
            "needs_background": "light"
          }
        }
      ]
    },
    {
      "cell_type": "code",
      "metadata": {
        "id": "SkrTG8e4DgIk",
        "colab_type": "code",
        "colab": {}
      },
      "source": [
        ""
      ],
      "execution_count": null,
      "outputs": []
    }
  ]
}